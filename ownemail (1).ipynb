{
 "cells": [
  {
   "cell_type": "code",
   "execution_count": 19,
   "metadata": {
    "ExecuteTime": {
     "start_time": "2022-06-20T07:35:57.954Z"
    }
   },
   "outputs": [
    {
     "name": "stdout",
     "output_type": "stream",
     "text": [
      "Login Successfully\n",
      "Message sent\n"
     ]
    }
   ],
   "source": [
    "import smtplib\n",
    "from tkinter import *\n",
    "\n",
    "app=Tk()\n",
    "app.geometry(\"500x500\")\n",
    "app.title(\"Python Mail Send App\")\n",
    "app.resizable(width = True,height = False)\n",
    "\n",
    "heading=Label(text=\"Python Email Sending Application\",bg=\"light blue\",fg=\"black\",font=\"15\",width=\"500\",height=\"3\")\n",
    "heading.pack()\n",
    "\n",
    "sender_address=Label(text=\"Sender Email Address: \")\n",
    "sender_email_password=Label(text=\"Enter Password :\")\n",
    "\n",
    "sender_address.place(x =15,y=70)\n",
    "sender_email_password.place(x = 15,y=140)\n",
    "\n",
    "senderMailAddress = StringVar()\n",
    "senderMailPwd = StringVar()\n",
    "\n",
    "sender_address_entry=Entry(textvariable=senderMailAddress,width=\"30\")\n",
    "sender_email_pwd= Entry(textvariable = senderMailPwd,width = \"30\",show = \"*\")\n",
    "\n",
    "sender_address_entry.place(x=15,y=100)\n",
    "sender_email_pwd.place(x=15,y=170)\n",
    "\n",
    "receiver_address_field=Label(text=\"Receiver Email Address: \")\n",
    "receiver_message_field=Label(text=\"Message:\")\n",
    "\n",
    "receiver_address_field.place(x=15,y=220)\n",
    "receiver_message_field.place(x=15,y=280)\n",
    "\n",
    "receiver_email=StringVar()\n",
    "receiver_text=StringVar()\n",
    "\n",
    "receiver_email_entry=Entry(textvariable=receiver_email,width=\"30\")\n",
    "receiver_text_entry= Entry(textvariable = receiver_text,width = \"40\")\n",
    "\n",
    "receiver_email_entry.place(x=15,y=250)\n",
    "receiver_text_entry.place(x=15,y=310)\n",
    "\n",
    "\n",
    "def send_message():\n",
    "    receiver_address=receiver_email.get()\n",
    "    #print(type(address_info))\n",
    "    receiver_mail_text=receiver_text.get()\n",
    "    \n",
    "    #print(address_info,email_body_info)\n",
    "    \n",
    "    sender_email= senderMailAddress.get()\n",
    "    sender_password= senderMailPwd.get()\n",
    "    \n",
    "    server=smtplib.SMTP('smtp.gmail.com',587)\n",
    "    server.starttls()\n",
    "    server.login(sender_email,sender_password)\n",
    "    print(\"Login Successfully\")\n",
    "    server.sendmail(sender_email,receiver_address,receiver_mail_text)\n",
    "    print(\"Message sent\")\n",
    "    \n",
    "    sender_address_entry.delete(0,END)\n",
    "    sender_email_pwd.delete(0,END)\n",
    "    \n",
    "    receiver_email_entry.delete(0,END)\n",
    "    receiver_text_entry.delete(0,END)\n",
    "\n",
    "\n",
    "button=Button(app,text=\"Send Message\",command = send_message,width=\"30\",height=\"3\",bg=\"light green\")\n",
    "button.place(x=15,y=360)\n",
    "mainloop()\n",
    "\n"
   ]
  },
  {
   "cell_type": "code",
   "execution_count": null,
   "metadata": {},
   "outputs": [],
   "source": []
  },
  {
   "cell_type": "code",
   "execution_count": null,
   "metadata": {},
   "outputs": [],
   "source": []
  },
  {
   "cell_type": "code",
   "execution_count": null,
   "metadata": {},
   "outputs": [],
   "source": []
  }
 ],
 "metadata": {
  "kernelspec": {
   "display_name": "Python 3",
   "language": "python",
   "name": "python3"
  },
  "language_info": {
   "codemirror_mode": {
    "name": "ipython",
    "version": 3
   },
   "file_extension": ".py",
   "mimetype": "text/x-python",
   "name": "python",
   "nbconvert_exporter": "python",
   "pygments_lexer": "ipython3",
   "version": "3.7.6"
  }
 },
 "nbformat": 4,
 "nbformat_minor": 4
}
